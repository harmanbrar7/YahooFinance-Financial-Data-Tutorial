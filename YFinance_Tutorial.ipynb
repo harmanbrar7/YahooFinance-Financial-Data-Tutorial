{
 "cells": [
  {
   "cell_type": "code",
   "execution_count": 1,
   "id": "c7d2cb05-2bb5-4a4d-a54a-b05d618c6f65",
   "metadata": {},
   "outputs": [
    {
     "name": "stdout",
     "output_type": "stream",
     "text": [
      "Collecting yfinance\n",
      "  Using cached yfinance-0.2.12-py2.py3-none-any.whl (59 kB)\n",
      "Requirement already satisfied: numpy>=1.16.5 in /opt/conda/lib/python3.10/site-packages (from yfinance) (1.23.5)\n",
      "Requirement already satisfied: requests>=2.26 in /opt/conda/lib/python3.10/site-packages (from yfinance) (2.28.1)\n",
      "Requirement already satisfied: cryptography>=3.3.2 in /opt/conda/lib/python3.10/site-packages (from yfinance) (39.0.0)\n",
      "Requirement already satisfied: html5lib>=1.1 in /opt/conda/lib/python3.10/site-packages (from yfinance) (1.1)\n",
      "Requirement already satisfied: pandas>=1.3.0 in /opt/conda/lib/python3.10/site-packages (from yfinance) (1.5.2)\n",
      "Requirement already satisfied: beautifulsoup4>=4.11.1 in /opt/conda/lib/python3.10/site-packages (from yfinance) (4.11.1)\n",
      "Requirement already satisfied: lxml>=4.9.1 in /opt/conda/lib/python3.10/site-packages (from yfinance) (4.9.2)\n",
      "Collecting multitasking>=0.0.7\n",
      "  Using cached multitasking-0.0.11-py3-none-any.whl (8.5 kB)\n",
      "Requirement already satisfied: pytz>=2022.5 in /opt/conda/lib/python3.10/site-packages (from yfinance) (2022.7)\n",
      "Collecting frozendict>=2.3.4\n",
      "  Using cached frozendict-2.3.5-cp310-cp310-manylinux_2_17_x86_64.manylinux2014_x86_64.whl (113 kB)\n",
      "Requirement already satisfied: appdirs>=1.4.4 in /opt/conda/lib/python3.10/site-packages (from yfinance) (1.4.4)\n",
      "Requirement already satisfied: soupsieve>1.2 in /opt/conda/lib/python3.10/site-packages (from beautifulsoup4>=4.11.1->yfinance) (2.3.2.post1)\n",
      "Requirement already satisfied: cffi>=1.12 in /opt/conda/lib/python3.10/site-packages (from cryptography>=3.3.2->yfinance) (1.15.1)\n",
      "Requirement already satisfied: webencodings in /opt/conda/lib/python3.10/site-packages (from html5lib>=1.1->yfinance) (0.5.1)\n",
      "Requirement already satisfied: six>=1.9 in /opt/conda/lib/python3.10/site-packages (from html5lib>=1.1->yfinance) (1.16.0)\n",
      "Requirement already satisfied: python-dateutil>=2.8.1 in /opt/conda/lib/python3.10/site-packages (from pandas>=1.3.0->yfinance) (2.8.2)\n",
      "Requirement already satisfied: charset-normalizer<3,>=2 in /opt/conda/lib/python3.10/site-packages (from requests>=2.26->yfinance) (2.1.1)\n",
      "Requirement already satisfied: urllib3<1.27,>=1.21.1 in /opt/conda/lib/python3.10/site-packages (from requests>=2.26->yfinance) (1.26.13)\n",
      "Requirement already satisfied: idna<4,>=2.5 in /opt/conda/lib/python3.10/site-packages (from requests>=2.26->yfinance) (3.4)\n",
      "Requirement already satisfied: certifi>=2017.4.17 in /opt/conda/lib/python3.10/site-packages (from requests>=2.26->yfinance) (2022.12.7)\n",
      "Requirement already satisfied: pycparser in /opt/conda/lib/python3.10/site-packages (from cffi>=1.12->cryptography>=3.3.2->yfinance) (2.21)\n",
      "Installing collected packages: multitasking, frozendict, yfinance\n",
      "Successfully installed frozendict-2.3.5 multitasking-0.0.11 yfinance-0.2.12\n"
     ]
    }
   ],
   "source": [
    "!pip install yfinance"
   ]
  },
  {
   "cell_type": "code",
   "execution_count": 2,
   "id": "3738b96b-a4c6-4b95-8a01-8a84a1e8212c",
   "metadata": {},
   "outputs": [
    {
     "name": "stdout",
     "output_type": "stream",
     "text": [
      "[*********************100%***********************]  3 of 3 completed\n",
      "Annualized mean returns:\n",
      "AAPL    0.278654\n",
      "GOOG    0.170045\n",
      "MSFT    0.213565\n",
      "dtype: float64\n",
      "\n",
      "Annualized standard deviations:\n",
      "AAPL    0.286910\n",
      "GOOG    0.273044\n",
      "MSFT    0.260858\n",
      "dtype: float64\n",
      "\n",
      "Correlation matrix:\n",
      "          AAPL      GOOG      MSFT\n",
      "AAPL  1.000000  0.562840  0.596826\n",
      "GOOG  0.562840  1.000000  0.652502\n",
      "MSFT  0.596826  0.652502  1.000000\n",
      "\n",
      "Portfolio return: 20.87%\n",
      "Portfolio volatility: 203269.44%\n"
     ]
    }
   ],
   "source": [
    "import numpy as np\n",
    "import pandas as pd\n",
    "import yfinance as yf\n",
    "\n",
    "# Define the stock symbols and investment amounts\n",
    "symbols = ['AAPL', 'MSFT', 'GOOG']\n",
    "amounts = [1000, 2000, 1500]\n",
    "\n",
    "# Retrieve historical stock prices\n",
    "data = yf.download(symbols, start='2010-01-01', end='2023-02-26')['Adj Close']\n",
    "\n",
    "# Calculate daily returns\n",
    "returns = data.pct_change()\n",
    "\n",
    "# Calculate annualized mean and standard deviation of returns\n",
    "mean_returns = returns.mean() * 252\n",
    "std_returns = returns.std() * np.sqrt(252)\n",
    "\n",
    "# Calculate correlation matrix of returns\n",
    "corr_matrix = returns.corr()\n",
    "\n",
    "# Calculate portfolio statistics\n",
    "portfolio_return = np.dot(mean_returns, amounts) / sum(amounts)\n",
    "portfolio_volatility = np.sqrt(np.dot(amounts, np.dot(corr_matrix * std_returns.values.reshape(-1, 1), amounts)))\n",
    "\n",
    "# Print the results\n",
    "print(f'Annualized mean returns:\\n{mean_returns}\\n')\n",
    "print(f'Annualized standard deviations:\\n{std_returns}\\n')\n",
    "print(f'Correlation matrix:\\n{corr_matrix}\\n')\n",
    "print(f'Portfolio return: {portfolio_return:.2%}')\n",
    "print(f'Portfolio volatility: {portfolio_volatility:.2%}')\n"
   ]
  },
  {
   "cell_type": "code",
   "execution_count": null,
   "id": "4ed565c7-b65d-46b4-bfaf-8071f3697c06",
   "metadata": {},
   "outputs": [],
   "source": []
  }
 ],
 "metadata": {
  "kernelspec": {
   "display_name": "Python 3 (ipykernel)",
   "language": "python",
   "name": "python3"
  },
  "language_info": {
   "codemirror_mode": {
    "name": "ipython",
    "version": 3
   },
   "file_extension": ".py",
   "mimetype": "text/x-python",
   "name": "python",
   "nbconvert_exporter": "python",
   "pygments_lexer": "ipython3",
   "version": "3.10.8"
  }
 },
 "nbformat": 4,
 "nbformat_minor": 5
}
